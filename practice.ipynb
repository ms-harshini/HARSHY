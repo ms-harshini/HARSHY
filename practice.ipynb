{
  "nbformat": 4,
  "nbformat_minor": 0,
  "metadata": {
    "colab": {
      "provenance": [],
      "collapsed_sections": [
        "02ADl0Ie6gkf",
        "l6urEcdhww1-"
      ],
      "authorship_tag": "ABX9TyPvUFWscw4t/7aztKvQrviV",
      "include_colab_link": true
    },
    "kernelspec": {
      "name": "python3",
      "display_name": "Python 3"
    },
    "language_info": {
      "name": "python"
    }
  },
  "cells": [
    {
      "cell_type": "markdown",
      "metadata": {
        "id": "view-in-github",
        "colab_type": "text"
      },
      "source": [
        "<a href=\"https://colab.research.google.com/github/ms-harshini/HARSHY/blob/main/practice.ipynb\" target=\"_parent\"><img src=\"https://colab.research.google.com/assets/colab-badge.svg\" alt=\"Open In Colab\"/></a>"
      ]
    },
    {
      "cell_type": "code",
      "source": [
        "print(\"i love anime\")\n",
        "print(\"monkeydluffy\")"
      ],
      "metadata": {
        "colab": {
          "base_uri": "https://localhost:8080/"
        },
        "id": "3fwR-NRyKE4l",
        "outputId": "7e589268-9d76-4e6a-f54c-0f8147a8b495"
      },
      "execution_count": null,
      "outputs": [
        {
          "output_type": "stream",
          "name": "stdout",
          "text": [
            "i love anime\n",
            "monkeydluffy\n"
          ]
        }
      ]
    },
    {
      "cell_type": "code",
      "source": [
        "name = \"bruh\"\n",
        "print(name)\n",
        "print(\"hlo \"+name)"
      ],
      "metadata": {
        "colab": {
          "base_uri": "https://localhost:8080/"
        },
        "id": "CHXNjCO3r-u5",
        "outputId": "ce80a3d6-c4eb-4fc4-b7ca-1621ae9a0d80"
      },
      "execution_count": null,
      "outputs": [
        {
          "output_type": "stream",
          "name": "stdout",
          "text": [
            "bruh\n",
            "hlo bruh\n"
          ]
        }
      ]
    },
    {
      "cell_type": "markdown",
      "source": [
        "to check the data type"
      ],
      "metadata": {
        "id": "-j0wSeQstEpH"
      }
    },
    {
      "cell_type": "code",
      "source": [
        "name = \"bruh\"\n",
        "print(type(name))"
      ],
      "metadata": {
        "colab": {
          "base_uri": "https://localhost:8080/"
        },
        "id": "c7U33jNLszVW",
        "outputId": "838484e9-0335-4989-9036-d60af7cafd41"
      },
      "execution_count": null,
      "outputs": [
        {
          "output_type": "stream",
          "name": "stdout",
          "text": [
            "<class 'str'>\n"
          ]
        }
      ]
    },
    {
      "cell_type": "markdown",
      "source": [
        "combination of vairiables"
      ],
      "metadata": {
        "id": "EZTKwRCUtUlK"
      }
    },
    {
      "cell_type": "code",
      "source": [
        "frst_name = \"bruh\"\n",
        "last_name = \"luffy\"\n",
        "full_name = frst_name +\" \"+ last_name\n",
        "print(\"hlo \"+full_name)"
      ],
      "metadata": {
        "colab": {
          "base_uri": "https://localhost:8080/"
        },
        "id": "LCmD2egEtL-Y",
        "outputId": "5df592fe-79c3-424f-f29a-769880719808"
      },
      "execution_count": null,
      "outputs": [
        {
          "output_type": "stream",
          "name": "stdout",
          "text": [
            "hlo bruh luffy\n"
          ]
        }
      ]
    },
    {
      "cell_type": "markdown",
      "source": [
        "int data type"
      ],
      "metadata": {
        "id": "de2B3j6wuCwv"
      }
    },
    {
      "cell_type": "code",
      "source": [
        "age = 21\n",
        "age = age+1\n",
        "print(age)\n",
        "print(type(age))"
      ],
      "metadata": {
        "colab": {
          "base_uri": "https://localhost:8080/"
        },
        "id": "LYcCMyaIuFEV",
        "outputId": "109767ab-bd7f-4115-b626-75e5de1a0947"
      },
      "execution_count": null,
      "outputs": [
        {
          "output_type": "stream",
          "name": "stdout",
          "text": [
            "22\n",
            "<class 'int'>\n"
          ]
        }
      ]
    },
    {
      "cell_type": "markdown",
      "source": [
        "to print matter in print statement use +str(vaeiable name)"
      ],
      "metadata": {
        "id": "WOXqEaR9vFpi"
      }
    },
    {
      "cell_type": "code",
      "source": [
        "age = 21\n",
        "age = age+1\n",
        "print(\"your age is: \"+str(age))"
      ],
      "metadata": {
        "colab": {
          "base_uri": "https://localhost:8080/"
        },
        "id": "xbkVTqQAu4CI",
        "outputId": "6048f42c-8acb-4967-c47a-e753cb714faf"
      },
      "execution_count": null,
      "outputs": [
        {
          "output_type": "stream",
          "name": "stdout",
          "text": [
            "your age is: 22\n"
          ]
        }
      ]
    },
    {
      "cell_type": "markdown",
      "source": [
        "float data type"
      ],
      "metadata": {
        "id": "HQTsiSdgvym-"
      }
    },
    {
      "cell_type": "code",
      "source": [
        "height = 250.5\n",
        "print(\"ur height is \"+str(height) + \"cm\")\n",
        "print(type(height))"
      ],
      "metadata": {
        "colab": {
          "base_uri": "https://localhost:8080/"
        },
        "id": "FQ6371j6vTu_",
        "outputId": "f47b5aa0-419d-4b25-976f-86d806ed6b05"
      },
      "execution_count": null,
      "outputs": [
        {
          "output_type": "stream",
          "name": "stdout",
          "text": [
            "ur height is 250.5cm\n",
            "<class 'float'>\n"
          ]
        }
      ]
    },
    {
      "cell_type": "markdown",
      "source": [
        "boolean data type"
      ],
      "metadata": {
        "id": "ZN6ARm_n4mEB"
      }
    },
    {
      "cell_type": "code",
      "source": [
        "human = 'True'\n",
        "print(\"r u a human\" +\" \"+str(human))"
      ],
      "metadata": {
        "colab": {
          "base_uri": "https://localhost:8080/"
        },
        "id": "A0HOIXAH4lra",
        "outputId": "fc98e707-aa9d-40d1-b9f1-f5fdc27b4491"
      },
      "execution_count": null,
      "outputs": [
        {
          "output_type": "stream",
          "name": "stdout",
          "text": [
            "r u a human True\n"
          ]
        }
      ]
    },
    {
      "cell_type": "markdown",
      "source": [
        "# **MULTIPLE ASSIGNMENT**"
      ],
      "metadata": {
        "id": "02ADl0Ie6gkf"
      }
    },
    {
      "cell_type": "code",
      "source": [
        "# name= 'bruh'\n",
        "# age = 21\n",
        "# attractive = True\n",
        "\n",
        "name,age,attractive = 'bro',21,True\n",
        "print(name)\n",
        "print(age)\n",
        "print(attractive)"
      ],
      "metadata": {
        "colab": {
          "base_uri": "https://localhost:8080/"
        },
        "id": "ciscTzp96pOS",
        "outputId": "71726d5e-e3f2-47ff-f5b5-c72197f54974"
      },
      "execution_count": null,
      "outputs": [
        {
          "output_type": "stream",
          "name": "stdout",
          "text": [
            "bro\n",
            "21\n",
            "True\n"
          ]
        }
      ]
    },
    {
      "cell_type": "markdown",
      "source": [
        "equal values"
      ],
      "metadata": {
        "id": "78ctinAM8C97"
      }
    },
    {
      "cell_type": "code",
      "source": [
        "# luffy = 20\n",
        "# zoro = 20\n",
        "# sanji = 20\n",
        "# brook = 20\n",
        "\n",
        "luffy = zoro = sanji = brook = 20\n",
        "\n",
        "print(luffy)\n",
        "print(zoro)\n",
        "print(sanji)\n",
        "print(brook)"
      ],
      "metadata": {
        "id": "6j5rxF-L8HHX",
        "colab": {
          "base_uri": "https://localhost:8080/"
        },
        "outputId": "a90aa0d2-3496-4b95-9fdd-0f1612ed7d38"
      },
      "execution_count": null,
      "outputs": [
        {
          "output_type": "stream",
          "name": "stdout",
          "text": [
            "20\n",
            "20\n",
            "20\n",
            "20\n"
          ]
        }
      ]
    },
    {
      "cell_type": "markdown",
      "source": [
        "# **string methods in python**"
      ],
      "metadata": {
        "id": "LfiwiuUAsdGn"
      }
    },
    {
      "cell_type": "markdown",
      "source": [
        "length of string"
      ],
      "metadata": {
        "id": "dBwhO_H_svxm"
      }
    },
    {
      "cell_type": "code",
      "source": [
        "name = \"luffy\"\n",
        "\n",
        "print(len(name))"
      ],
      "metadata": {
        "colab": {
          "base_uri": "https://localhost:8080/"
        },
        "id": "S4BWUgrwsiej",
        "outputId": "6df5f76d-f6d4-4af9-ae29-cc6917bad95a"
      },
      "execution_count": null,
      "outputs": [
        {
          "output_type": "stream",
          "name": "stdout",
          "text": [
            "5\n"
          ]
        }
      ]
    },
    {
      "cell_type": "markdown",
      "source": [
        "finding a character using a string"
      ],
      "metadata": {
        "id": "6333ajIktXx9"
      }
    },
    {
      "cell_type": "code",
      "source": [
        "name = \"luffy\"\n",
        "\n",
        "print(name.find(\"y\"))"
      ],
      "metadata": {
        "colab": {
          "base_uri": "https://localhost:8080/"
        },
        "id": "FEzS7Ba8s5gE",
        "outputId": "e7377c33-840c-452b-d2b9-ebe1283670a5"
      },
      "execution_count": null,
      "outputs": [
        {
          "output_type": "stream",
          "name": "stdout",
          "text": [
            "4\n"
          ]
        }
      ]
    },
    {
      "cell_type": "markdown",
      "source": [
        "captalising"
      ],
      "metadata": {
        "id": "rX4cgY5htkzc"
      }
    },
    {
      "cell_type": "code",
      "source": [
        "name = \"luffy\"\n",
        "\n",
        "print(name.capitalize())"
      ],
      "metadata": {
        "colab": {
          "base_uri": "https://localhost:8080/"
        },
        "id": "-RaifNUntnn4",
        "outputId": "6aaa187b-9690-4704-dc30-e8dddde4df8e"
      },
      "execution_count": null,
      "outputs": [
        {
          "output_type": "stream",
          "name": "stdout",
          "text": [
            "Luffy\n"
          ]
        }
      ]
    },
    {
      "cell_type": "markdown",
      "source": [
        "uppercase"
      ],
      "metadata": {
        "id": "evdpjOJ7t4PY"
      }
    },
    {
      "cell_type": "code",
      "source": [
        "name = \"luffy\"\n",
        "\n",
        "print(name.upper())"
      ],
      "metadata": {
        "colab": {
          "base_uri": "https://localhost:8080/"
        },
        "id": "PXQz1AI3t5-C",
        "outputId": "4f957baa-2f34-4ddc-c67b-e2408fa06c3f"
      },
      "execution_count": null,
      "outputs": [
        {
          "output_type": "stream",
          "name": "stdout",
          "text": [
            "LUFFY\n"
          ]
        }
      ]
    },
    {
      "cell_type": "markdown",
      "source": [
        "lovercase"
      ],
      "metadata": {
        "id": "9AitdO7kuHL8"
      }
    },
    {
      "cell_type": "code",
      "source": [
        "name = \"LUFFY\"\n",
        "\n",
        "print(name.lower())"
      ],
      "metadata": {
        "colab": {
          "base_uri": "https://localhost:8080/"
        },
        "id": "7DMZHAWjuIqw",
        "outputId": "22bf316b-f7b9-4e39-fe18-e94ed7ccf882"
      },
      "execution_count": null,
      "outputs": [
        {
          "output_type": "stream",
          "name": "stdout",
          "text": [
            "luffy\n"
          ]
        }
      ]
    },
    {
      "cell_type": "markdown",
      "source": [
        "isdigit || isalpha || count ||replace"
      ],
      "metadata": {
        "id": "tgXJa3DWubyH"
      }
    },
    {
      "cell_type": "code",
      "source": [
        "digit = \"123\"\n",
        "alpha = \"luffy\"\n",
        "count = \"luffy\"\n",
        "\n",
        "print(digit.isdigit())\n",
        "print(alpha.isalpha())\n",
        "print(count.count(\"f\"))\n",
        "print(alpha.replace(\"y\",\"i\"))"
      ],
      "metadata": {
        "colab": {
          "base_uri": "https://localhost:8080/"
        },
        "id": "Mouhx6PCuiX2",
        "outputId": "509fb17c-794d-4094-c42d-2a6d651fe07c"
      },
      "execution_count": null,
      "outputs": [
        {
          "output_type": "stream",
          "name": "stdout",
          "text": [
            "True\n",
            "True\n",
            "2\n",
            "luffi\n"
          ]
        }
      ]
    },
    {
      "cell_type": "markdown",
      "source": [
        "printing multiple times"
      ],
      "metadata": {
        "id": "MsqGriGpwPw9"
      }
    },
    {
      "cell_type": "code",
      "source": [
        "name = \"luffy\"\n",
        "\n",
        "print(name*3)"
      ],
      "metadata": {
        "colab": {
          "base_uri": "https://localhost:8080/"
        },
        "id": "TMOYzp3PwTch",
        "outputId": "b788b22a-5573-4796-f3d8-5c07ab9258f4"
      },
      "execution_count": null,
      "outputs": [
        {
          "output_type": "stream",
          "name": "stdout",
          "text": [
            "luffyluffyluffy\n"
          ]
        }
      ]
    },
    {
      "cell_type": "markdown",
      "source": [
        "# **TYPE CASTING**\n",
        "type casting = convert the data type of a value to another data type"
      ],
      "metadata": {
        "id": "l6urEcdhww1-"
      }
    },
    {
      "cell_type": "code",
      "source": [
        "x = 1 #int\n",
        "y = 2.5 #float\n",
        "z = \"3\" #str\n",
        "\n",
        "x = float(x)\n",
        "y = int(y)\n",
        "# z = int(z)\n",
        "\n",
        "print(x)\n",
        "print(y)\n",
        "print(z*3)"
      ],
      "metadata": {
        "colab": {
          "base_uri": "https://localhost:8080/"
        },
        "id": "C5owZoXXw2tK",
        "outputId": "37f0ef7e-1688-4dbd-f017-fd2d427db9fc"
      },
      "execution_count": null,
      "outputs": [
        {
          "output_type": "stream",
          "name": "stdout",
          "text": [
            "1.0\n",
            "2\n",
            "333\n"
          ]
        }
      ]
    },
    {
      "cell_type": "markdown",
      "source": [
        "# **USER INPUT**"
      ],
      "metadata": {
        "id": "0XR-Zfy2zu0q"
      }
    },
    {
      "cell_type": "code",
      "source": [
        "input(\"wt is ur name?: \")"
      ],
      "metadata": {
        "colab": {
          "base_uri": "https://localhost:8080/",
          "height": 53
        },
        "id": "PnTirqk1z8de",
        "outputId": "c880b145-b2c7-4446-b2ba-b9565aa73b21"
      },
      "execution_count": null,
      "outputs": [
        {
          "name": "stdout",
          "output_type": "stream",
          "text": [
            "wt is ur name?: luffy\n"
          ]
        },
        {
          "output_type": "execute_result",
          "data": {
            "text/plain": [
              "'luffy'"
            ],
            "application/vnd.google.colaboratory.intrinsic+json": {
              "type": "string"
            }
          },
          "metadata": {},
          "execution_count": 27
        }
      ]
    },
    {
      "cell_type": "code",
      "source": [
        "name = input(\"wt is ur name?: \")\n",
        "\n",
        "print(\"hlo \"+name)"
      ],
      "metadata": {
        "colab": {
          "base_uri": "https://localhost:8080/"
        },
        "id": "P8In31f53k2a",
        "outputId": "970373eb-e432-4e7f-82f4-83869dec3199"
      },
      "execution_count": null,
      "outputs": [
        {
          "output_type": "stream",
          "name": "stdout",
          "text": [
            "wt is ur name?: zoro\n",
            "hlo zoro\n"
          ]
        }
      ]
    },
    {
      "cell_type": "code",
      "source": [
        "name = input(\"wt is ur name?: \")\n",
        "age =  int(input(\"wt is ur age?: \"))\n",
        "height = float(input(\"how tall r u?:\"))\n",
        "# converting string data type to int data type to apply mathematical operation\n",
        "\n",
        "\n",
        "print(\"hlo \"+name)\n",
        "print(\"u r \"+str(age)+\" yrs old\")\n",
        "# a data type doesnt work with unlike data type, so converting age(int) to age(string)\n",
        "print(\"u r \"+str(height)+\"cm tall\")"
      ],
      "metadata": {
        "colab": {
          "base_uri": "https://localhost:8080/"
        },
        "id": "zAs6H5Ih4A7Q",
        "outputId": "2486ce35-c1f6-467c-a2b8-bee783f78a72"
      },
      "execution_count": null,
      "outputs": [
        {
          "output_type": "stream",
          "name": "stdout",
          "text": [
            "wt is ur name?: luffy\n",
            "wt is ur age?: 20\n",
            "how tall r u?:250.5\n",
            "hlo luffy\n",
            "u r 20 yrs old\n",
            "u r 250.5cm tall\n"
          ]
        }
      ]
    },
    {
      "cell_type": "markdown",
      "source": [
        "# **MATH FUNCTIONS**"
      ],
      "metadata": {
        "id": "Pzeyu_iiLPRG"
      }
    },
    {
      "cell_type": "markdown",
      "source": [
        "round || cei || floor || abs || pow || sqrt"
      ],
      "metadata": {
        "id": "gCVD0hz9Q2ly"
      }
    },
    {
      "cell_type": "code",
      "source": [
        "import math\n",
        "\n",
        "pi= -3.14\n",
        "\n",
        "print(round(pi))\n",
        "# used to round a number to the nearest integer\n",
        "print(math.ceil(pi))\n",
        "# ceil used to round a number up to the nearest integer\n",
        "print(math.floor(pi))\n",
        "# floor used to round a number down to the nearest integer\n",
        "print(abs(pi))\n",
        "# abs() tells us how far a number is away from zero\n",
        "print(pow(pi,2))\n",
        "# pow is used to calculate the power of a number\n",
        "print(math.sqrt(420))\n",
        "# sqrt is not applicable fr -ve"
      ],
      "metadata": {
        "colab": {
          "base_uri": "https://localhost:8080/"
        },
        "id": "etscEeRnLkqn",
        "outputId": "85848d4b-db93-454b-8465-25be9ba30146"
      },
      "execution_count": null,
      "outputs": [
        {
          "output_type": "stream",
          "name": "stdout",
          "text": [
            "-3\n",
            "-3\n",
            "-4\n",
            "3.14\n",
            "9.8596\n",
            "20.493901531919196\n"
          ]
        }
      ]
    },
    {
      "cell_type": "markdown",
      "source": [
        "max - min function"
      ],
      "metadata": {
        "id": "fkbruUYXRA_x"
      }
    },
    {
      "cell_type": "code",
      "source": [
        "pi = 3.14\n",
        "x=1\n",
        "y=2\n",
        "z=3\n",
        "\n",
        "print(max(x,y,z))\n",
        "print(min(x,y,z))"
      ],
      "metadata": {
        "colab": {
          "base_uri": "https://localhost:8080/"
        },
        "id": "t0MUqXB5REcZ",
        "outputId": "c6b14245-6c68-48c7-c9ca-45777cc757c4"
      },
      "execution_count": null,
      "outputs": [
        {
          "output_type": "stream",
          "name": "stdout",
          "text": [
            "3\n",
            "1\n"
          ]
        }
      ]
    },
    {
      "cell_type": "markdown",
      "source": [
        "# **STRING SLICING**"
      ],
      "metadata": {
        "id": "zRYrTpdfRhaL"
      }
    },
    {
      "cell_type": "markdown",
      "source": [
        "Slicing is used  to extract a portion (or \"slice\") of a sequence like a list, string, tuple, etc\n",
        "\n",
        "*   indexing[]\n",
        "*   slice()\n",
        "\n",
        "[start:stop:step] - arguments\n",
        "\n"
      ],
      "metadata": {
        "id": "WH81Mol9R3-F"
      }
    },
    {
      "cell_type": "markdown",
      "source": [
        "indexing[]\n",
        "s^3 || reverse"
      ],
      "metadata": {
        "id": "RgJC6p1JW_m0"
      }
    },
    {
      "cell_type": "code",
      "source": [
        "name = \"luffy zoro\"\n",
        "\n",
        "# strting index : stopping index\n",
        "frst_name = name[0:3]  # -> name[:3]\n",
        "last_name = name[4:8]  # -> name[4:]\n",
        "# strting index : stopping index : step index\n",
        "fn_name = name[0:7:1]  # -> name[::3]\n",
        "reversed_name = name[::-1]\n",
        "\n",
        "print(frst_name)\n",
        "print(last_name)\n",
        "print(fn_name)\n",
        "print(reversed_name)\n",
        "\n",
        "# step tells how many positions to skip while slicing a sequence\n",
        "\n"
      ],
      "metadata": {
        "colab": {
          "base_uri": "https://localhost:8080/"
        },
        "id": "mWeNnZh4RnTA",
        "outputId": "658d46c8-4778-4be2-f4bc-7199e60ec652"
      },
      "execution_count": null,
      "outputs": [
        {
          "output_type": "stream",
          "name": "stdout",
          "text": [
            "luf\n",
            "y zo\n",
            "luffy z\n",
            "oroz yfful\n"
          ]
        }
      ]
    },
    {
      "cell_type": "markdown",
      "source": [
        "slice()\n"
      ],
      "metadata": {
        "id": "yracCgjIXHR3"
      }
    },
    {
      "cell_type": "code",
      "source": [],
      "metadata": {
        "id": "psrF8C69YGE3"
      },
      "execution_count": null,
      "outputs": []
    }
  ]
}